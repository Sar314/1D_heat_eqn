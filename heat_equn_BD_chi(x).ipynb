{
  "nbformat": 4,
  "nbformat_minor": 0,
  "metadata": {
    "colab": {
      "name": "heat equn BD chi(x).ipynb",
      "provenance": [],
      "authorship_tag": "ABX9TyNuhSlSmh0JXQFf/5WE2GqJ",
      "include_colab_link": true
    },
    "kernelspec": {
      "name": "python3",
      "display_name": "Python 3"
    },
    "language_info": {
      "name": "python"
    }
  },
  "cells": [
    {
      "cell_type": "markdown",
      "metadata": {
        "id": "view-in-github",
        "colab_type": "text"
      },
      "source": [
        "<a href=\"https://colab.research.google.com/github/Sar314/1D_heat_eqn/blob/main/heat_equn_BD_chi(x).ipynb\" target=\"_parent\"><img src=\"https://colab.research.google.com/assets/colab-badge.svg\" alt=\"Open In Colab\"/></a>"
      ]
    },
    {
      "cell_type": "markdown",
      "metadata": {
        "id": "aB2ZIOYy7TTW"
      },
      "source": [
        "# 1D Heat equation solved implicity using a backward difference approximation in time.\n",
        "\n",
        "This version has a Neuman boundary condition at x=0, and  Dirchelet boundary condition at x=L."
      ]
    },
    {
      "cell_type": "code",
      "metadata": {
        "id": "73qn7XMobRAz"
      },
      "source": [
        "import numpy as np\n",
        "import matplotlib.pyplot as plt\n",
        "from scipy.sparse import diags"
      ],
      "execution_count": 1,
      "outputs": []
    },
    {
      "cell_type": "code",
      "metadata": {
        "id": "Vzp8Twcor2a7"
      },
      "source": [
        "# variables\n",
        "L = np.pi   # rod length (3 in this case so that the final plot is symmetric and shows the oscillations from the initial conditions)\n",
        "T = .3      # total time (s)\n",
        "k = .5      # thermal diffusivity constant  \n",
        "N = 30      # number of spatial steps\n",
        "M = 30      # number of time steps\n",
        "dx = L/N    # space steps\n",
        "dt = T/M    # time steps\n",
        "alpha = k*dt/dx**2\n",
        "t_bound1 = 0.5 # constant value of U(L,t) for Dirchelet condition\n",
        "t_bound2 = 1   # constant value of the dU(0,t)/dx for Neuman Condition\n",
        "\n",
        "x = np.linspace(0,L,N)\n",
        "t = np.linspace(0,T,M)"
      ],
      "execution_count": 2,
      "outputs": []
    },
    {
      "cell_type": "code",
      "metadata": {
        "id": "bPI55F9jy_hb"
      },
      "source": [
        "# Initial condition\n",
        "u_0 = np.zeros((N,1), dtype=float)\n",
        "\n",
        "for i in range(N):\n",
        "  u_0[i] = np.sin(np.pi*x[i])\n",
        "\n",
        "# Boundary Conditions just for initial u, the rest are included in the matrix equation below\n",
        "u_0[-1] = t_bound1   # Dirchelet\n",
        "u_0[0] = u_0[1]      # Neuman\n"
      ],
      "execution_count": 3,
      "outputs": []
    },
    {
      "cell_type": "code",
      "metadata": {
        "id": "vupwd9EJb8BC"
      },
      "source": [
        "############################# Source ###############################\n",
        "def S(x):                                 # Gaussian Source \n",
        "  sigma = 0.3                             # FWHM\n",
        "  return np.exp(-(x-1.5)**2/(2*sigma))    # centered at 1.5\n",
        "\n",
        "def H(x):                                 # Step function source\n",
        "  h = np.heaviside(x-2,0.5)               # step up at x=2\n",
        "  return h\n",
        "\n",
        "# source vector\n",
        "s = np.zeros((N,1), dtype=object)\n",
        "for i in range(N):\n",
        "  s[i] = H(x[i])\n",
        "####################################################################"
      ],
      "execution_count": 4,
      "outputs": []
    },
    {
      "cell_type": "code",
      "metadata": {
        "id": "IkoVYivbv03k",
        "colab": {
          "base_uri": "https://localhost:8080/",
          "height": 265
        },
        "outputId": "388e0a67-bdd1-4884-87a9-43c915bbb9c3"
      },
      "source": [
        "# Heat equation in terms of approximations with boundary conditions\n",
        "# reseting u_0 for each run\n",
        "for i in range(N):\n",
        "  u_0[i] = np.sin(np.pi*x[i])\n",
        "\n",
        "# Boundary Conditions just for initial u, the rest are included in the matrix equation below\n",
        "u_0[-1] = t_bound1   # Dirchelet\n",
        "u_0[0] = u_0[1]     # Neuman\n",
        "\n",
        "u_0 = u_0.astype(float)\n",
        "u_1 = np.zeros((N, 1), dtype=object)\n",
        "u_out = [u_0]\n",
        "\n",
        "for j in range(M):  # M steps in time\n",
        "  \n",
        "  # Creating the inverted matrix A including Dirchelet and Neuman boundary conditions\n",
        "\n",
        "  def tridiag(a, b, c, k1=-1, k2=0, k3=1):\n",
        "      return np.diag(a, k1) + np.diag(b, k2) + np.diag(c, k3)\n",
        "\n",
        "  a = np.zeros(N-1)\n",
        "  b = np.zeros(N) \n",
        "  c = np.zeros(N-1)\n",
        "  chi = np.zeros(N, dtype=object)\n",
        "  alpha = np.zeros(N,dtype=object)\n",
        "\n",
        "\n",
        "  # for chi=1/r where can't have 1/0\n",
        "  #chi[0] = 1\n",
        "  #for i in range(1,N,1):\n",
        "    #chi[i] = 1/x[i]\n",
        "\n",
        "  for i in range(N):\n",
        "    # options for chi: U, sqrt(U), 1/U, 1/r, r\n",
        "    # comment following line when using chi=1/r\n",
        "    chi[i] = 1/u_0[i]\n",
        "    alpha[i] = chi[i]*dt/dx**2 \n",
        "    b[i] = 1 + 2*alpha[i]\n",
        "  for i in range(N-1):\n",
        "    a[i] = -alpha[i+1]\n",
        "  for i in range(N-1):\n",
        "    c[i] = -alpha[i]\n",
        "\n",
        "  A = tridiag(a, b, c)\n",
        "  A[0, 1] = -2*alpha[1]\n",
        "  Inv_A = np.linalg.inv(A)\n",
        "\n",
        "  # Creating the b vector which results from the boundary conditions\n",
        "\n",
        "  b = np.zeros((N, 1), dtype=object)\n",
        "  b[0], b[-1] = 2*t_bound2*alpha[0]*dx, alpha[-1]*t_bound1\n",
        "  \n",
        "  u_1 = np.matmul(Inv_A, (u_0 + b + s))\n",
        "  u_out.append(u_1)\n",
        "  plt.plot(x, u_out[j])\n",
        "  plt.grid()\n",
        "  u_0 = u_1"
      ],
      "execution_count": 5,
      "outputs": [
        {
          "output_type": "display_data",
          "data": {
            "image/png": "[encoded data removed]",
            "text/plain": [
              "<Figure size 432x288 with 1 Axes>"
            ]
          },
          "metadata": {
            "tags": [],
            "needs_background": "light"
          }
        }
      ]
    }
  ]
}