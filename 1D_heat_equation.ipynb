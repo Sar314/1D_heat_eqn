{
  "nbformat": 4,
  "nbformat_minor": 0,
  "metadata": {
    "colab": {
      "name": "1D heat equation.ipynb",
      "provenance": [],
      "collapsed_sections": [],
      "authorship_tag": "ABX9TyOMuezRwwt//5Pu/Y4dFDDe",
      "include_colab_link": true
    },
    "kernelspec": {
      "name": "python3",
      "display_name": "Python 3"
    },
    "language_info": {
      "name": "python"
    }
  },
  "cells": [
    {
      "cell_type": "markdown",
      "metadata": {
        "id": "view-in-github",
        "colab_type": "text"
      },
      "source": [
        "<a href=\"https://colab.research.google.com/github/Sar98/1D_heat_eqn/blob/main/1D_heat_equation.ipynb\" target=\"_parent\"><img src=\"https://colab.research.google.com/assets/colab-badge.svg\" alt=\"Open In Colab\"/></a>"
      ]
    },
    {
      "cell_type": "code",
      "metadata": {
        "colab": {
          "base_uri": "https://localhost:8080/"
        },
        "id": "fYqu2URgMTfz",
        "outputId": "f1f18577-df62-4179-9633-f77a93cbd96a"
      },
      "source": [
        "# This mounts your Google Drive to the Colab VM.\n",
        "from google.colab import drive\n",
        "drive.mount('/content/gdrive', force_remount=True)\n",
        "root_path = 'gdrive/My Drive/SULI_Heat_eqn_codes/'"
      ],
      "execution_count": 90,
      "outputs": [
        {
          "output_type": "stream",
          "text": [
            "Mounted at /content/gdrive\n"
          ],
          "name": "stdout"
        }
      ]
    },
    {
      "cell_type": "markdown",
      "metadata": {
        "id": "KoSi1ZpjZFvZ"
      },
      "source": [
        "The pythonization of a MATLAB script\n",
        "## Solution of a 1D heat equation using foward, backward, and central difference approximations."
      ]
    },
    {
      "cell_type": "code",
      "metadata": {
        "id": "73qn7XMobRAz"
      },
      "source": [
        "import numpy as np\n",
        "import matplotlib.pyplot as plt"
      ],
      "execution_count": 7,
      "outputs": []
    },
    {
      "cell_type": "code",
      "metadata": {
        "id": "vm5I30yAYWqt"
      },
      "source": [
        "# variables\n",
        "L = 3       # rod length (3 in this case so that the final plot is symmetric and shows the oscillations from the initial conditions)\n",
        "T = .3      # total time (s)\n",
        "k = .5      # thermal diffusivity constant  \n",
        "N = 24      # number of spatial steps\n",
        "M = 3#50      # number of time steps\n",
        "dx = L/N    # delta x  \n",
        "dt = T/M    # delta t\n",
        "alpha = k*dt/dx**2"
      ],
      "execution_count": 33,
      "outputs": []
    },
    {
      "cell_type": "code",
      "metadata": {
        "id": "dc0t0nzkd22n",
        "colab": {
          "base_uri": "https://localhost:8080/",
          "height": 582
        },
        "outputId": "ec0e63a3-6792-475f-c115-4af4cda70993"
      },
      "source": [
        "# Full set of positions\n",
        "\n",
        "x = np.zeros(N)\n",
        "t = np.zeros(M)\n",
        "\n",
        "for i in range(N-1):\n",
        "  x[i] = i*dx\n",
        "for j in range(M-1):\n",
        "  t[j] = j*dt\n",
        "\n",
        "# Initial condition\n",
        "u_0 = np.zeros(N)\n",
        "\n",
        "for i in range(N-1):\n",
        "  u_0[i] = np.sin(np.pi*x[i])\n",
        "\n",
        "# Heat equation in terms of approximations with boundary conditions\n",
        "u_1 = np.zeros(N)\n",
        "u = np.zeros((M,N))\n",
        "\n",
        "for j in range(M-1):\n",
        "  for i in range(1, N-2):   # leaving out the boundaries\n",
        "    u_1[i] = u_0[i] + alpha*(u_0[i+1] - 2*u_0[i] + u_0[i-1])\n",
        "\n",
        "  u_1[0] = 0            # Dirchelet Condition\n",
        "  u_1[N-1] = u_0[N-1]   # Neuman Condition\n",
        "  #print(u_1[N-1])\n",
        "\n",
        "  u[M-j-1,:] = u_0\n",
        "  plt.plot(sorted(x),(u[M-j-1,:]))\n",
        "  u_0 = u_1   # update u_0 and loop back\n",
        "\n",
        "print(u)  # sanity check\n"
      ],
      "execution_count": 34,
      "outputs": [
        {
          "output_type": "stream",
          "text": [
            "[[ 0.00000000e+00  0.00000000e+00  0.00000000e+00  0.00000000e+00\n",
            "   0.00000000e+00  0.00000000e+00  0.00000000e+00  0.00000000e+00\n",
            "   0.00000000e+00  0.00000000e+00  0.00000000e+00  0.00000000e+00\n",
            "   0.00000000e+00  0.00000000e+00  0.00000000e+00  0.00000000e+00\n",
            "   0.00000000e+00  0.00000000e+00  0.00000000e+00  0.00000000e+00\n",
            "   0.00000000e+00  0.00000000e+00  0.00000000e+00  0.00000000e+00]\n",
            " [ 0.00000000e+00  1.00643290e-01 -1.19980647e-01 -1.30136326e+00\n",
            "  -5.41750395e+00 -1.87340911e+01 -6.12792619e+01 -1.97153394e+02\n",
            "  -6.31518866e+02 -2.02096101e+03 -6.46663321e+03 -2.06923088e+04\n",
            "  -6.62141352e+04 -2.11883834e+05 -6.78026940e+05 -2.16968515e+06\n",
            "  -6.94299185e+06 -2.22175738e+07 -7.10962366e+07 -2.27507958e+08\n",
            "  -7.28025467e+08 -2.32968150e+09  0.00000000e+00  0.00000000e+00]\n",
            " [ 0.00000000e+00  3.82683432e-01  7.07106781e-01  9.23879533e-01\n",
            "   1.00000000e+00  9.23879533e-01  7.07106781e-01  3.82683432e-01\n",
            "   1.22464680e-16 -3.82683432e-01 -7.07106781e-01 -9.23879533e-01\n",
            "  -1.00000000e+00 -9.23879533e-01 -7.07106781e-01 -3.82683432e-01\n",
            "  -2.44929360e-16  3.82683432e-01  7.07106781e-01  9.23879533e-01\n",
            "   1.00000000e+00  9.23879533e-01  7.07106781e-01  0.00000000e+00]]\n"
          ],
          "name": "stdout"
        },
        {
          "output_type": "display_data",
          "data": {
            "image/png": "[encoded data removed]",
            "text/plain": [
              "<Figure size 432x288 with 1 Axes>"
            ]
          },
          "metadata": {
            "tags": [],
            "needs_background": "light"
          }
        }
      ]
    },
    {
      "cell_type": "code",
      "metadata": {
        "colab": {
          "base_uri": "https://localhost:8080/",
          "height": 259
        },
        "id": "sZIl5eW0uYhw",
        "outputId": "06816c4c-ca94-4fef-d83f-7a1329dbfe39"
      },
      "source": [
        "plt.imshow(u, extent=[0,L,0,T])\n",
        "plt.colorbar()\n",
        "plt.xlabel('position')\n",
        "plt.ylabel('time (s)')\n",
        "plt.title('1D Heat map of a rod over time')\n",
        "plt.show()"
      ],
      "execution_count": 35,
      "outputs": [
        {
          "output_type": "display_data",
          "data": {
            "image/png": "[encoded data removed]",
            "text/plain": [
              "<Figure size 432x288 with 2 Axes>"
            ]
          },
          "metadata": {
            "tags": [],
            "needs_background": "light"
          }
        }
      ]
    }
  ]
}