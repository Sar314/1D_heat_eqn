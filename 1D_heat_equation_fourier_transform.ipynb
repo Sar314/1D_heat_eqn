{
  "nbformat": 4,
  "nbformat_minor": 0,
  "metadata": {
    "colab": {
      "name": "1D heat equation fourier transform.ipynb",
      "provenance": [],
      "collapsed_sections": [],
      "authorship_tag": "ABX9TyNA9KuHNeUF0M8lKg1hcqOU",
      "include_colab_link": true
    },
    "kernelspec": {
      "name": "python3",
      "display_name": "Python 3"
    },
    "language_info": {
      "name": "python"
    }
  },
  "cells": [
    {
      "cell_type": "markdown",
      "metadata": {
        "id": "view-in-github",
        "colab_type": "text"
      },
      "source": [
        "<a href=\"https://colab.research.google.com/github/Sar314/1D_heat_eqn/blob/main/1D_heat_equation_fourier_transform.ipynb\" target=\"_parent\"><img src=\"https://colab.research.google.com/assets/colab-badge.svg\" alt=\"Open In Colab\"/></a>"
      ]
    },
    {
      "cell_type": "code",
      "metadata": {
        "id": "73qn7XMobRAz"
      },
      "source": [
        "import numpy as np\n",
        "import matplotlib.pyplot as plt"
      ],
      "execution_count": 1,
      "outputs": []
    },
    {
      "cell_type": "code",
      "metadata": {
        "id": "uBfAc_kvweY7"
      },
      "source": [
        "# variables\n",
        "L = np.pi   # rod length (3 in this case so that the final plot is symmetric and shows the oscillations from the initial conditions)\n",
        "T = .5      # total time (s)\n",
        "chi = 1     # thermal diffusivity constant  \n",
        "N = 10      # number of spatial steps\n",
        "M = 10      # number of time steps\n",
        "dx = L/N    # space steps\n",
        "dt = T/M    # time steps\n",
        "alpha = chi*dt/dx**2\n",
        "t_bound = 0.5 # tab for Dirchelet condition\n",
        "\n",
        "############################# Source ###############################\n",
        "def S(x):                                 # Gaussian Source \n",
        "  sigma = 0.3                             # FWHM\n",
        "  return np.exp(-(x-1.5)**2/(2*sigma))    # centered at 1.5\n",
        "\n",
        "def H(x):                                 # Step function source\n",
        "  h = np.heaviside(x-2,0.5)               # step up at x=2\n",
        "  return h\n",
        "\n",
        "####################################################################\n",
        "\n",
        "# Initial condition\n",
        "u_0 = np.zeros(N)\n",
        "\n",
        "x = np.linspace(0,L,N)\n",
        "t = np.linspace(0,T,M)\n",
        "\n",
        "for i in range(N):\n",
        "  u_0[i] = np.cos(np.pi*x[i])\n",
        "u_0[-1] = t_bound\n",
        "u_0[0] = u_0[1]\n"
      ],
      "execution_count": 2,
      "outputs": []
    },
    {
      "cell_type": "code",
      "metadata": {
        "id": "WG_SAhF0oT9w"
      },
      "source": [
        "import scipy.integrate as integrate\n",
        "\n",
        "def i_c(x):   # initial condition\n",
        "  return np.cos(np.pi*x)\n",
        "\n",
        "def integrand(y,x,t):   # integrand for inverting the ft\n",
        "  return (1/np.sqrt(4*np.pi*chi*t))*i_c(y)*np.exp(-((x-y)**2)/(4*chi*t))\n",
        "\n",
        "u_1 = np.zeros(N)     # array for x values at a single points in time\n",
        "u_2 = np.zeros((M,N)) # final array of all points\n",
        "u_2[0,:] = u_0        # initial condition at t=0\n"
      ],
      "execution_count": 3,
      "outputs": []
    },
    {
      "cell_type": "markdown",
      "metadata": {
        "id": "CEKStPIIX4mG"
      },
      "source": [
        "The cell below finds a solution to the heat equation without a source term, while the following cell finds a solution with a source.\n",
        "\n",
        "Either run the cell below or the one after it, but not both."
      ]
    },
    {
      "cell_type": "code",
      "metadata": {
        "id": "k0haM_XJXhFQ"
      },
      "source": [
        "# Without source\n",
        "def u(x,t):     # inverting the ft\n",
        "      return integrate.quad(integrand, -np.inf, np.inf, args=(x,t))\n",
        "   \n",
        "for j in range(1,M):\n",
        "  for i in range(1,N-1):\n",
        "    u_1[i] = u(x[i],t[j])[0]\n",
        "    \n",
        "    u_1[0] = u_1[1]     # Neuman\n",
        "    u_1[-1] = t_bound   # Dirichlet\n",
        "  u_2[j,:] = u_1    # full matrix\n",
        "  plt.plot(x, u_2[j,:], '.-')"
      ],
      "execution_count": null,
      "outputs": []
    },
    {
      "cell_type": "code",
      "metadata": {
        "colab": {
          "base_uri": "https://localhost:8080/",
          "height": 1000
        },
        "id": "iqV12prfXnNz",
        "outputId": "dad0da75-c06d-48dc-d13f-dfd93de8dd72"
      },
      "source": [
        "\n",
        "# With Source\n",
        "def integrand_2(y,z,x,t):\n",
        "  return (1/np.sqrt(4*np.pi*chi*(t-z)))*np.exp(-((x-y)**2)/(4*chi*(t-z)))*H(x)\n",
        "\n",
        "def a(x,t):\n",
        "      return integrate.quad(integrand, -np.inf, np.inf, args=(x,t))\n",
        "    \n",
        "def b(x,t):\n",
        "  return integrate.dblquad(integrand_2,-np.inf,np.inf,lambda y: 0, lambda y: t,args=(x,t))\n",
        "\n",
        "def u(x,t):\n",
        "  return a(x,t) + b(x,t)\n",
        "   \n",
        "\n",
        "h = np.zeros(N)     # making a source array\n",
        "for i in range(N):\n",
        "  h[i] = H(x[i])\n",
        "u_0 = u_0 + h       # initial condition with source\n",
        "\n",
        "u_2[0,:] = u_0\n",
        "\n",
        "for j in range(1,M):\n",
        "  for i in range(1,N-1):\n",
        "    u_1[i] = u(x[i],t[j])[0]\n",
        "    \n",
        "    u_1[0] = u_1[1]\n",
        "    u_1[-1] = t_bound\n",
        "    #plt.plot(x,u_1)\n",
        "  u_2[j,:] = u_1\n",
        "  plt.plot(x, u_2[j,:], '.-')\n",
        "\n",
        "\n",
        "\n",
        "\n"
      ],
      "execution_count": 12,
      "outputs": [
        {
          "output_type": "stream",
          "text": [
            "/usr/local/lib/python3.7/dist-packages/ipykernel_launcher.py:4: RuntimeWarning: invalid value encountered in sqrt\n",
            "  after removing the cwd from sys.path.\n",
            "/usr/local/lib/python3.7/dist-packages/scipy/integrate/quadpack.py:865: IntegrationWarning: The occurrence of roundoff error is detected, which prevents \n",
            "  the requested tolerance from being achieved.  The error may be \n",
            "  underestimated.\n",
            "  **opt)\n",
            "/usr/local/lib/python3.7/dist-packages/ipykernel_launcher.py:4: RuntimeWarning: invalid value encountered in sqrt\n",
            "  after removing the cwd from sys.path.\n",
            "/usr/local/lib/python3.7/dist-packages/scipy/integrate/quadpack.py:865: IntegrationWarning: The occurrence of roundoff error is detected, which prevents \n",
            "  the requested tolerance from being achieved.  The error may be \n",
            "  underestimated.\n",
            "  **opt)\n",
            "/usr/local/lib/python3.7/dist-packages/ipykernel_launcher.py:4: RuntimeWarning: invalid value encountered in sqrt\n",
            "  after removing the cwd from sys.path.\n",
            "/usr/local/lib/python3.7/dist-packages/scipy/integrate/quadpack.py:865: IntegrationWarning: The occurrence of roundoff error is detected, which prevents \n",
            "  the requested tolerance from being achieved.  The error may be \n",
            "  underestimated.\n",
            "  **opt)\n",
            "/usr/local/lib/python3.7/dist-packages/ipykernel_launcher.py:4: RuntimeWarning: invalid value encountered in sqrt\n",
            "  after removing the cwd from sys.path.\n",
            "/usr/local/lib/python3.7/dist-packages/scipy/integrate/quadpack.py:865: IntegrationWarning: The occurrence of roundoff error is detected, which prevents \n",
            "  the requested tolerance from being achieved.  The error may be \n",
            "  underestimated.\n",
            "  **opt)\n",
            "/usr/local/lib/python3.7/dist-packages/ipykernel_launcher.py:4: RuntimeWarning: invalid value encountered in sqrt\n",
            "  after removing the cwd from sys.path.\n",
            "/usr/local/lib/python3.7/dist-packages/scipy/integrate/quadpack.py:865: IntegrationWarning: The occurrence of roundoff error is detected, which prevents \n",
            "  the requested tolerance from being achieved.  The error may be \n",
            "  underestimated.\n",
            "  **opt)\n",
            "/usr/local/lib/python3.7/dist-packages/ipykernel_launcher.py:4: RuntimeWarning: overflow encountered in exp\n",
            "  after removing the cwd from sys.path.\n",
            "/usr/local/lib/python3.7/dist-packages/ipykernel_launcher.py:4: RuntimeWarning: invalid value encountered in sqrt\n",
            "  after removing the cwd from sys.path.\n",
            "/usr/local/lib/python3.7/dist-packages/scipy/integrate/quadpack.py:865: IntegrationWarning: The occurrence of roundoff error is detected, which prevents \n",
            "  the requested tolerance from being achieved.  The error may be \n",
            "  underestimated.\n",
            "  **opt)\n",
            "/usr/local/lib/python3.7/dist-packages/ipykernel_launcher.py:4: RuntimeWarning: divide by zero encountered in double_scalars\n",
            "  after removing the cwd from sys.path.\n",
            "/usr/local/lib/python3.7/dist-packages/ipykernel_launcher.py:4: RuntimeWarning: invalid value encountered in double_scalars\n",
            "  after removing the cwd from sys.path.\n",
            "/usr/local/lib/python3.7/dist-packages/ipykernel_launcher.py:4: RuntimeWarning: overflow encountered in exp\n",
            "  after removing the cwd from sys.path.\n",
            "/usr/local/lib/python3.7/dist-packages/ipykernel_launcher.py:4: RuntimeWarning: invalid value encountered in sqrt\n",
            "  after removing the cwd from sys.path.\n",
            "/usr/local/lib/python3.7/dist-packages/scipy/integrate/quadpack.py:865: IntegrationWarning: The occurrence of roundoff error is detected, which prevents \n",
            "  the requested tolerance from being achieved.  The error may be \n",
            "  underestimated.\n",
            "  **opt)\n",
            "/usr/local/lib/python3.7/dist-packages/ipykernel_launcher.py:4: RuntimeWarning: invalid value encountered in sqrt\n",
            "  after removing the cwd from sys.path.\n",
            "/usr/local/lib/python3.7/dist-packages/scipy/integrate/quadpack.py:865: IntegrationWarning: The occurrence of roundoff error is detected, which prevents \n",
            "  the requested tolerance from being achieved.  The error may be \n",
            "  underestimated.\n",
            "  **opt)\n",
            "/usr/local/lib/python3.7/dist-packages/ipykernel_launcher.py:4: RuntimeWarning: invalid value encountered in sqrt\n",
            "  after removing the cwd from sys.path.\n",
            "/usr/local/lib/python3.7/dist-packages/scipy/integrate/quadpack.py:865: IntegrationWarning: The occurrence of roundoff error is detected, which prevents \n",
            "  the requested tolerance from being achieved.  The error may be \n",
            "  underestimated.\n",
            "  **opt)\n"
          ],
          "name": "stderr"
        },
        {
          "output_type": "display_data",
          "data": {
            "image/png": "[encoded data removed]",
            "text/plain": [
              "<Figure size 432x288 with 1 Axes>"
            ]
          },
          "metadata": {
            "tags": [],
            "needs_background": "light"
          }
        }
      ]
    }
  ]
}